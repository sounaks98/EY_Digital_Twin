{
  "nbformat": 4,
  "nbformat_minor": 0,
  "metadata": {
    "colab": {
      "name": "mh_lstm_model.ipynb",
      "provenance": [],
      "collapsed_sections": []
    },
    "kernelspec": {
      "name": "python3",
      "display_name": "Python 3"
    },
    "language_info": {
      "name": "python"
    }
  },
  "cells": [
    {
      "cell_type": "markdown",
      "metadata": {
        "id": "dy0VQPOA2mN1"
      },
      "source": [
        "#LSTM Model For Mental Health"
      ]
    },
    {
      "cell_type": "code",
      "metadata": {
        "id": "l_qzor2T2kCv"
      },
      "source": [
        "import numpy as np\n",
        "import pandas as pd\n",
        "import pickle\n",
        "from math import pi\n",
        "import matplotlib.pyplot as plt\n",
        "\n",
        "import tensorflow as tf\n",
        "from tensorflow.keras.preprocessing.text import Tokenizer\n",
        "from tensorflow.keras.preprocessing.sequence import pad_sequences\n",
        "from tensorflow.keras.layers import Embedding,LSTM,Dropout,Dense,TimeDistributed,Input,Reshape\n"
      ],
      "execution_count": 1,
      "outputs": []
    },
    {
      "cell_type": "markdown",
      "metadata": {
        "id": "ywqRddlpd_kw"
      },
      "source": [
        "## Training The Model"
      ]
    },
    {
      "cell_type": "code",
      "metadata": {
        "id": "QqFw8hftf8y1"
      },
      "source": [
        "#initializing mental risks\n",
        "mental_risks_list = ['mentally healthy','slightly disturbed','emotionally weak','decreased_life_enjoyment',\n",
        "                     'relationship_difficulties','self_harm','anxiety','depression','loss_of_productivity','insomnia','violence',\n",
        "                     'burnout','dissociation']\n",
        "\n",
        "# create the training data\n",
        "path_list = [\"/content/mental_health_data_year-1.csv\",\"/content/mental_health_data_year-2.csv\",\n",
        "             \"/content/mental_health_data_year-3.csv\",\"/content/mental_health_data_year-4.csv\",\"/content/mental_health_data_year-5.csv\"]\n"
      ],
      "execution_count": 2,
      "outputs": []
    },
    {
      "cell_type": "code",
      "metadata": {
        "id": "LOKLw0PN27NN"
      },
      "source": [
        "# sample dataframe\n",
        "df = pd.read_csv(path_list[0])\n",
        "\n",
        "traindf = pd.DataFrame(\"\", index=range(0,len(df)),columns=df.columns)\n",
        "\n",
        "for i in range(0,len(path_list)):\n",
        "  data = pd.read_csv(path_list[i])\n",
        "\n",
        "  for col in data.columns:\n",
        "    traindf[col] += data[col]+\",\"\n",
        "\n",
        "traindf.to_csv(\"mental_health_training.csv\",index=False)\n"
      ],
      "execution_count": 4,
      "outputs": []
    },
    {
      "cell_type": "code",
      "metadata": {
        "colab": {
          "base_uri": "https://localhost:8080/",
          "height": 293
        },
        "id": "hPoRRV8S466U",
        "outputId": "bc9b54e2-c041-421c-c6ff-aae32f167dfc"
      },
      "source": [
        "traindf.head()"
      ],
      "execution_count": 5,
      "outputs": [
        {
          "output_type": "execute_result",
          "data": {
            "text/html": [
              "<div>\n",
              "<style scoped>\n",
              "    .dataframe tbody tr th:only-of-type {\n",
              "        vertical-align: middle;\n",
              "    }\n",
              "\n",
              "    .dataframe tbody tr th {\n",
              "        vertical-align: top;\n",
              "    }\n",
              "\n",
              "    .dataframe thead th {\n",
              "        text-align: right;\n",
              "    }\n",
              "</style>\n",
              "<table border=\"1\" class=\"dataframe\">\n",
              "  <thead>\n",
              "    <tr style=\"text-align: right;\">\n",
              "      <th></th>\n",
              "      <th>Health</th>\n",
              "      <th>Lifestyle</th>\n",
              "      <th>Work Style</th>\n",
              "      <th>Mental Risks</th>\n",
              "    </tr>\n",
              "  </thead>\n",
              "  <tbody>\n",
              "    <tr>\n",
              "      <th>0</th>\n",
              "      <td>chronic pain, eating disorder, high blood pre...</td>\n",
              "      <td>financial pressure, anger, family, hypnosis,a...</td>\n",
              "      <td>failed attempts, failed attempts, negative wo...</td>\n",
              "      <td>slightly disturbed,emotionally weak,slightly d...</td>\n",
              "    </tr>\n",
              "    <tr>\n",
              "      <th>1</th>\n",
              "      <td>ocd, social phobia, anxiety, social phobia,chr...</td>\n",
              "      <td>family, family, smoking, isolation, low self ...</td>\n",
              "      <td>work relations,work stress, low personal time...</td>\n",
              "      <td>depression,loss of productivity,burnout,loss o...</td>\n",
              "    </tr>\n",
              "    <tr>\n",
              "      <th>2</th>\n",
              "      <td>depression, depression, age, stress, chronic ...</td>\n",
              "      <td>fake emotions,alcohol, day dream, drug abuse,...</td>\n",
              "      <td>failed attempts, failed attempts, negative wo...</td>\n",
              "      <td>relationship difficulties,self harm,depression...</td>\n",
              "    </tr>\n",
              "    <tr>\n",
              "      <th>3</th>\n",
              "      <td>chronic pain, eye disorder,ocd, chronic pain,...</td>\n",
              "      <td>history of abuse, history of abuse, less slee...</td>\n",
              "      <td>introvert, pressure, work stress, work stress...</td>\n",
              "      <td>decreased life enjoyment,anxiety,depression,se...</td>\n",
              "    </tr>\n",
              "    <tr>\n",
              "      <th>4</th>\n",
              "      <td>post traumatic stress, hormonal imbalance, th...</td>\n",
              "      <td>financial pressure, isolation, financial pres...</td>\n",
              "      <td>low engagement,work stress, overtime, pressur...</td>\n",
              "      <td>depression,anxiety,insomnia,anxiety,insomnia,</td>\n",
              "    </tr>\n",
              "  </tbody>\n",
              "</table>\n",
              "</div>"
            ],
            "text/plain": [
              "                                              Health  ...                                       Mental Risks\n",
              "0   chronic pain, eating disorder, high blood pre...  ...  slightly disturbed,emotionally weak,slightly d...\n",
              "1  ocd, social phobia, anxiety, social phobia,chr...  ...  depression,loss of productivity,burnout,loss o...\n",
              "2   depression, depression, age, stress, chronic ...  ...  relationship difficulties,self harm,depression...\n",
              "3   chronic pain, eye disorder,ocd, chronic pain,...  ...  decreased life enjoyment,anxiety,depression,se...\n",
              "4   post traumatic stress, hormonal imbalance, th...  ...      depression,anxiety,insomnia,anxiety,insomnia,\n",
              "\n",
              "[5 rows x 4 columns]"
            ]
          },
          "metadata": {},
          "execution_count": 5
        }
      ]
    },
    {
      "cell_type": "code",
      "metadata": {
        "id": "hdKbXIbVfffj"
      },
      "source": [
        "# editing the data\n",
        "def clean_text(traindf):\n",
        "\n",
        "  for col in traindf.columns:\n",
        "    for row in range(len(traindf)):\n",
        "      traindf.iloc[row][col] = traindf.iloc[row][col].replace(\", \", \",\")\n",
        "      \n",
        "      # remove spaces from both end of string\n",
        "      traindf.iloc[row][col] = traindf.iloc[row][col].strip(\" \")\n",
        "\n",
        "      # replace \" \" with \"_\"\n",
        "      traindf.iloc[row][col] = traindf.iloc[row][col].replace(\" \", \"_\")\n",
        "  \n",
        "  return traindf\n"
      ],
      "execution_count": 6,
      "outputs": []
    },
    {
      "cell_type": "code",
      "metadata": {
        "colab": {
          "base_uri": "https://localhost:8080/",
          "height": 226
        },
        "id": "cng1u6pPhn6t",
        "outputId": "956320d4-068d-47f0-fa64-e413e142b22b"
      },
      "source": [
        "traindf = clean_text(traindf)\n",
        "traindf.head()"
      ],
      "execution_count": 7,
      "outputs": [
        {
          "output_type": "execute_result",
          "data": {
            "text/html": [
              "<div>\n",
              "<style scoped>\n",
              "    .dataframe tbody tr th:only-of-type {\n",
              "        vertical-align: middle;\n",
              "    }\n",
              "\n",
              "    .dataframe tbody tr th {\n",
              "        vertical-align: top;\n",
              "    }\n",
              "\n",
              "    .dataframe thead th {\n",
              "        text-align: right;\n",
              "    }\n",
              "</style>\n",
              "<table border=\"1\" class=\"dataframe\">\n",
              "  <thead>\n",
              "    <tr style=\"text-align: right;\">\n",
              "      <th></th>\n",
              "      <th>Health</th>\n",
              "      <th>Lifestyle</th>\n",
              "      <th>Work Style</th>\n",
              "      <th>Mental Risks</th>\n",
              "    </tr>\n",
              "  </thead>\n",
              "  <tbody>\n",
              "    <tr>\n",
              "      <th>0</th>\n",
              "      <td>chronic_pain,eating_disorder,high_blood_pressu...</td>\n",
              "      <td>financial_pressure,anger,family,hypnosis,anger...</td>\n",
              "      <td>failed_attempts,failed_attempts,negative_work_...</td>\n",
              "      <td>slightly_disturbed,emotionally_weak,slightly_d...</td>\n",
              "    </tr>\n",
              "    <tr>\n",
              "      <th>1</th>\n",
              "      <td>ocd,social_phobia,anxiety,social_phobia,chroni...</td>\n",
              "      <td>family,family,smoking,isolation,low_self_estee...</td>\n",
              "      <td>work_relations,work_stress,low_personal_time,f...</td>\n",
              "      <td>depression,loss_of_productivity,burnout,loss_o...</td>\n",
              "    </tr>\n",
              "    <tr>\n",
              "      <th>2</th>\n",
              "      <td>depression,depression,age,stress,chronic_pain,...</td>\n",
              "      <td>fake_emotions,alcohol,day_dream,drug_abuse,ang...</td>\n",
              "      <td>failed_attempts,failed_attempts,negative_work_...</td>\n",
              "      <td>relationship_difficulties,self_harm,depression...</td>\n",
              "    </tr>\n",
              "    <tr>\n",
              "      <th>3</th>\n",
              "      <td>chronic_pain,eye_disorder,ocd,chronic_pain,thy...</td>\n",
              "      <td>history_of_abuse,history_of_abuse,less_sleep,a...</td>\n",
              "      <td>introvert,pressure,work_stress,work_stress,pre...</td>\n",
              "      <td>decreased_life_enjoyment,anxiety,depression,se...</td>\n",
              "    </tr>\n",
              "    <tr>\n",
              "      <th>4</th>\n",
              "      <td>post_traumatic_stress,hormonal_imbalance,thyro...</td>\n",
              "      <td>financial_pressure,isolation,financial_pressur...</td>\n",
              "      <td>low_engagement,work_stress,overtime,pressure,p...</td>\n",
              "      <td>depression,anxiety,insomnia,anxiety,insomnia,</td>\n",
              "    </tr>\n",
              "  </tbody>\n",
              "</table>\n",
              "</div>"
            ],
            "text/plain": [
              "                                              Health  ...                                       Mental Risks\n",
              "0  chronic_pain,eating_disorder,high_blood_pressu...  ...  slightly_disturbed,emotionally_weak,slightly_d...\n",
              "1  ocd,social_phobia,anxiety,social_phobia,chroni...  ...  depression,loss_of_productivity,burnout,loss_o...\n",
              "2  depression,depression,age,stress,chronic_pain,...  ...  relationship_difficulties,self_harm,depression...\n",
              "3  chronic_pain,eye_disorder,ocd,chronic_pain,thy...  ...  decreased_life_enjoyment,anxiety,depression,se...\n",
              "4  post_traumatic_stress,hormonal_imbalance,thyro...  ...      depression,anxiety,insomnia,anxiety,insomnia,\n",
              "\n",
              "[5 rows x 4 columns]"
            ]
          },
          "metadata": {},
          "execution_count": 7
        }
      ]
    },
    {
      "cell_type": "code",
      "metadata": {
        "id": "5XHKwzVz7XxM"
      },
      "source": [
        "#input consists of health, lifestyle and workstyle\n",
        "inp = list()\n",
        "\n",
        "for hm, lm, wm in zip(traindf['Health'],traindf['Lifestyle'],traindf['Work Style']):\n",
        "  health = [w for w in hm.split(\",\")]\n",
        "  health.pop(-1)\n",
        "\n",
        "  lstyle = [w for w in lm.split(\",\")]\n",
        "  lstyle.pop(-1)\n",
        "\n",
        "  wstyle = [w for w in wm.split(\",\")]\n",
        "  wstyle.pop(-1)\n",
        "\n",
        "  inp.append(health + lstyle + wstyle) \n",
        "\n",
        "#output consists of possible mental risks\n",
        "mental_risk = list()\n",
        "\n",
        "for m in traindf['Mental Risks']:\n",
        "  risks = [w for w in m.split(\",\")]\n",
        "  risks.pop(-1)\n",
        "\n",
        "  mental_risk.append(risks)\n"
      ],
      "execution_count": 8,
      "outputs": []
    },
    {
      "cell_type": "code",
      "metadata": {
        "colab": {
          "base_uri": "https://localhost:8080/"
        },
        "id": "X5O_8kwe9AEI",
        "outputId": "00a1cb50-3bc6-45c6-a782-8cdfc0a7939b"
      },
      "source": [
        "MAX_LEN = 50\n",
        "\n",
        "#inp tokenizer for input data\n",
        "inp_token = Tokenizer()\n",
        "inp_token.fit_on_texts(inp)\n",
        "inp_dict = inp_token.word_index\n",
        "\n",
        "xseq = inp_token.texts_to_sequences(inp)\n",
        "xpadseq = pad_sequences(xseq,maxlen=MAX_LEN,padding='post')\n",
        "\n",
        "#output tokenizer for output data\n",
        "out_token = Tokenizer()\n",
        "out_token.fit_on_texts(mental_risk)\n",
        "out_dict = out_token.word_index\n",
        "\n",
        "yseq = out_token.texts_to_sequences(mental_risk)\n",
        "ypadseq = pad_sequences(yseq,maxlen=MAX_LEN,padding='post')\n",
        "\n",
        "print([xpadseq[0],ypadseq[0]])\n"
      ],
      "execution_count": 11,
      "outputs": [
        {
          "output_type": "stream",
          "name": "stdout",
          "text": [
            "[array([ 1, 29, 39, 15, 39, 17, 29, 61, 29, 61,  1, 28,  7, 28, 13, 23, 12,\n",
            "        8, 50, 12, 23,  8, 41, 14,  8, 14,  6, 52, 14, 30, 30, 57,  3, 26,\n",
            "        3, 30, 30, 59, 34, 34, 22, 19, 66,  4, 47, 35,  0,  0,  0,  0],\n",
            "      dtype=int32), array([11, 12, 11,  5,  8,  0,  0,  0,  0,  0,  0,  0,  0,  0,  0,  0,  0,\n",
            "        0,  0,  0,  0,  0,  0,  0,  0,  0,  0,  0,  0,  0,  0,  0,  0,  0,\n",
            "        0,  0,  0,  0,  0,  0,  0,  0,  0,  0,  0,  0,  0,  0,  0,  0],\n",
            "      dtype=int32)]\n"
          ]
        }
      ]
    },
    {
      "cell_type": "code",
      "metadata": {
        "colab": {
          "base_uri": "https://localhost:8080/"
        },
        "id": "9iFMjwBidQdu",
        "outputId": "385c98a0-d615-4a0a-886c-1c34b9ced0e9"
      },
      "source": [
        "vocab = len(inp_dict) + 1\n",
        "num_classes = len(out_dict) + 1\n",
        "\n",
        "yvec = tf.keras.utils.to_categorical(ypadseq,num_classes=num_classes)\n",
        "\n",
        "model = tf.keras.models.Sequential([\n",
        "    Embedding(vocab,256,input_length=MAX_LEN),\n",
        "\n",
        "    Dropout(0.2),\n",
        "\n",
        "    LSTM(256,input_shape=(MAX_LEN,1),return_sequences=True),\n",
        "    LSTM(256,input_shape=(MAX_LEN,1),return_sequences=True),\n",
        "\n",
        "    TimeDistributed(Dense(units=num_classes,activation=tf.nn.softmax))\n",
        "])\n",
        "model.summary()\n"
      ],
      "execution_count": 12,
      "outputs": [
        {
          "output_type": "stream",
          "name": "stdout",
          "text": [
            "Model: \"sequential_1\"\n",
            "_________________________________________________________________\n",
            "Layer (type)                 Output Shape              Param #   \n",
            "=================================================================\n",
            "embedding_1 (Embedding)      (None, 50, 256)           23040     \n",
            "_________________________________________________________________\n",
            "dropout_1 (Dropout)          (None, 50, 256)           0         \n",
            "_________________________________________________________________\n",
            "lstm_2 (LSTM)                (None, 50, 256)           525312    \n",
            "_________________________________________________________________\n",
            "lstm_3 (LSTM)                (None, 50, 256)           525312    \n",
            "_________________________________________________________________\n",
            "time_distributed_1 (TimeDist (None, 50, 14)            3598      \n",
            "=================================================================\n",
            "Total params: 1,077,262\n",
            "Trainable params: 1,077,262\n",
            "Non-trainable params: 0\n",
            "_________________________________________________________________\n"
          ]
        }
      ]
    },
    {
      "cell_type": "code",
      "metadata": {
        "colab": {
          "base_uri": "https://localhost:8080/"
        },
        "id": "kMCjq2FDnhrU",
        "outputId": "f5c976b4-d92c-4722-a2f3-7df2d7589ffa"
      },
      "source": [
        "reduced_lr = tf.keras.callbacks.ReduceLROnPlateau(\n",
        "    monitor='loss',\n",
        "    factor=0.1,\n",
        "    min_lr=1e-9,\n",
        "    patience=3,\n",
        "    cooldown=1\n",
        ")\n",
        "model.compile(loss=\"categorical_crossentropy\",optimizer='rmsprop',metrics=[\"accuracy\"])\n",
        "\n",
        "history = model.fit(xpadseq,yvec,epochs=10,callbacks=[reduced_lr],verbose=1,batch_size=8)"
      ],
      "execution_count": 13,
      "outputs": [
        {
          "output_type": "stream",
          "name": "stdout",
          "text": [
            "Epoch 1/10\n",
            "63/63 [==============================] - 25s 343ms/step - loss: 0.3467 - accuracy: 0.8927\n",
            "Epoch 2/10\n",
            "63/63 [==============================] - 22s 348ms/step - loss: 0.2535 - accuracy: 0.9124\n",
            "Epoch 3/10\n",
            "63/63 [==============================] - 22s 348ms/step - loss: 0.2472 - accuracy: 0.9134\n",
            "Epoch 4/10\n",
            "63/63 [==============================] - 22s 344ms/step - loss: 0.2438 - accuracy: 0.9135\n",
            "Epoch 5/10\n",
            "63/63 [==============================] - 22s 342ms/step - loss: 0.2387 - accuracy: 0.9143\n",
            "Epoch 6/10\n",
            "63/63 [==============================] - 22s 346ms/step - loss: 0.2382 - accuracy: 0.9150\n",
            "Epoch 7/10\n",
            "63/63 [==============================] - 22s 344ms/step - loss: 0.2340 - accuracy: 0.9168\n",
            "Epoch 8/10\n",
            "63/63 [==============================] - 22s 343ms/step - loss: 0.2319 - accuracy: 0.9166\n",
            "Epoch 9/10\n",
            "63/63 [==============================] - 22s 342ms/step - loss: 0.2297 - accuracy: 0.9166\n",
            "Epoch 10/10\n",
            "63/63 [==============================] - 22s 344ms/step - loss: 0.2286 - accuracy: 0.9178\n"
          ]
        }
      ]
    },
    {
      "cell_type": "code",
      "metadata": {
        "colab": {
          "base_uri": "https://localhost:8080/",
          "height": 545
        },
        "id": "2KQEe8BhqhAw",
        "outputId": "5efd2630-c970-449a-e422-24e5a0dd4d67"
      },
      "source": [
        "loss = history.history['loss']\n",
        "acc = history.history['accuracy']\n",
        "\n",
        "epoch = range(len(loss))\n",
        "\n",
        "plt.plot(epoch,loss,'r',label='training loss')\n",
        "plt.title('Loss Graph')\n",
        "plt.legend()\n",
        "plt.figure()\n",
        "plt.plot(epoch,acc,'b',label='training acc')\n",
        "plt.title('Acc Graph')\n",
        "plt.legend()\n",
        "plt.show()\n"
      ],
      "execution_count": 14,
      "outputs": [
        {
          "output_type": "display_data",
          "data": {
            "image/png": "[encoded data removed]",
            "text/plain": [
              "<Figure size 432x288 with 1 Axes>"
            ]
          },
          "metadata": {
            "needs_background": "light"
          }
        },
        {
          "output_type": "display_data",
          "data": {
            "image/png": "[encoded data removed]",
            "text/plain": [
              "<Figure size 432x288 with 1 Axes>"
            ]
          },
          "metadata": {
            "needs_background": "light"
          }
        }
      ]
    },
    {
      "cell_type": "code",
      "metadata": {
        "id": "5X2NzxgtrUO1"
      },
      "source": [
        "# storing the model parameters\n",
        "model.save(\"mh_lstm_model.h5\")\n",
        "\n",
        "# input dictionary\n",
        "dfile = open(\"mh_inp_dict.pkl\",'wb')\n",
        "pickle.dump(inp_dict, dfile)\n",
        "dfile.close()\n",
        "\n",
        "# output dictionary\n",
        "dfile = open(\"mh_out_dict.pkl\",'wb')\n",
        "pickle.dump(out_dict, dfile)\n",
        "dfile.close()\n"
      ],
      "execution_count": 17,
      "outputs": []
    },
    {
      "cell_type": "markdown",
      "metadata": {
        "id": "2c0ApR1GtJqB"
      },
      "source": [
        "## Loading model and testing outputs"
      ]
    },
    {
      "cell_type": "code",
      "metadata": {
        "id": "Hk5MjFFxr6-a"
      },
      "source": [
        "# loading all the model files\n",
        "model = tf.keras.models.load_model(\"/content/mh_lstm_model.h5\")\n",
        "\n",
        "dfile = open(\"/content/mh_inp_dict.pkl\", \"rb\")\n",
        "inp_dict = pickle.load(dfile)\n",
        "\n",
        "dfile = open(\"/content/mh_out_dict.pkl\", \"rb\")\n",
        "out_dict = pickle.load(dfile)\n"
      ],
      "execution_count": 18,
      "outputs": []
    },
    {
      "cell_type": "code",
      "metadata": {
        "id": "j8WwQzochhlB"
      },
      "source": [
        "test_case_1 = {\n",
        "        \"Health\": [\"chronic pain, high blood pressure, physical disorder, heart disorder, physical disorder, eating disorder\"],\n",
        "        \"Lifestyle\": [\"family, living alone, history of abuse, smoking, low sleep, drug abuse, mood swings, financial pressure\"],\n",
        "        \"Work Style\": [\"low productivity, multitasking, pressure, overtime, negative work relations, high screen time, shift work, offshore, experience, less relax\"]\n",
        "}\n",
        "\n",
        "test_case_2 = {\n",
        "        \"Health\": [\"anxiety, high blood pressure, hormonal imbalance, vitamin deficiency, thyroid, hormonal imbalance, thyroid, post traumatic stress\"],\n",
        "        \"Lifestyle\": [\"alcohol, drug abuse, poor diet, stress, irregular sleep, confused, panic, high screen time, poor diet, hypnosis, day dream, fake emotions\"],\n",
        "        \"Work Style\": [\"overtime, work stress, repeating tasks, improper recognition, work stress, work relations, overtime, negative work relations, repeating tasks\"]\n",
        "}\n",
        "\n",
        "test_case_3 = {\n",
        "        \"Health\": [\"post traumatic stress, chronic pain, ocd, thyroid, diabetes, heart disorder\"],\n",
        "        \"Lifestyle\": [\"history of abuse, low self esteem, high screen time, family, lack of relationships, negative social connection\"],\n",
        "        \"Work Style\": [\"work stress, underperformer, introvert, incomplete tasks\"]\n",
        "}\n",
        "\n",
        "test_case_4 = {\n",
        "        \"Health\": [\"\"],\n",
        "        \"Lifestyle\": [\"alcohol, drug abuse, poor diet\"],\n",
        "        \"Work Style\": [\"work stress, underperformer, introvert\"]\n",
        "}\n"
      ],
      "execution_count": 19,
      "outputs": []
    },
    {
      "cell_type": "code",
      "metadata": {
        "id": "XEE3rpBIuWUP"
      },
      "source": [
        "MAX_LEN = 50\n",
        "\n",
        "# creating testing text\n",
        "testdf = pd.DataFrame(test_case_2)\n",
        "\n",
        "testdf = clean_text(testdf)\n",
        "\n",
        "# encoding new text with inp dictionary\n",
        "testinp = list()\n",
        "\n",
        "for hm, lm, wm in zip(testdf['Health'],testdf['Lifestyle'],testdf['Work Style']):\n",
        "  health = [w for w in hm.split(\",\")]\n",
        "  health.pop(-1)\n",
        "\n",
        "  lstyle = [w for w in lm.split(\",\")]\n",
        "  lstyle.pop(-1)\n",
        "\n",
        "  wstyle = [w for w in wm.split(\",\")]\n",
        "  wstyle.pop(-1)\n",
        "\n",
        "  testinp.append(health + lstyle + wstyle) \n",
        "\n",
        "# initializing the tokenizer with pre-built dictionary\n",
        "test_token = Tokenizer()\n",
        "test_token.word_index = inp_dict\n",
        "xseq = test_token.texts_to_sequences(testinp)\n",
        "xpadseq = pad_sequences(xseq,maxlen=MAX_LEN,padding='post')\n",
        "\n",
        "# predicting the output\n",
        "predicted = model.predict(xpadseq)\n",
        "final_list = list()\n",
        "\n",
        "for i in range(len(predicted)):\n",
        "  res = list()\n",
        "  pred = np.round( np.argmax(predicted[i],axis=1) )\n",
        "\n",
        "  for w in pred:\n",
        "    for word, index in out_dict.items():\n",
        "      if index == w:\n",
        "        res.append(word)\n",
        "        break\n",
        "    \n",
        "  final_list.append(res)\n"
      ],
      "execution_count": 31,
      "outputs": []
    },
    {
      "cell_type": "code",
      "metadata": {
        "colab": {
          "base_uri": "https://localhost:8080/",
          "height": 284
        },
        "id": "6TnDti0699C9",
        "outputId": "2cf7e848-5b93-4553-fcad-0be152337492"
      },
      "source": [
        "# the score dictionary\n",
        "score_dict = dict()\n",
        "\n",
        "N = len(mental_risks_list)\n",
        "\n",
        "for risk in mental_risks_list:\n",
        "  score_dict[risk] = 0\n",
        "\n",
        "for risk in final_list[0]:\n",
        "  for key in score_dict.keys():\n",
        "    if key == risk:\n",
        "      score_dict[key] += 1    \n",
        "\n",
        "angles = [n / float(N) * 2 * pi for n in range(N)]\n",
        "\n",
        "values = list(score_dict.values())\n",
        "categories = list(score_dict.keys())\n",
        "\n",
        "ax = plt.subplot(111, polar=True)\n",
        "plt.xticks(angles, categories, color='black', size=8)\n",
        "\n",
        "max_idx = max(score_dict, key=score_dict.get)\n",
        "max_value = score_dict[max_idx]\n",
        "\n",
        "ax.set_rlabel_position(0)\n",
        "plt.yticks(list( range(0,(max_value + 1)) ), [str(n) for n in list( range(0,(max_value + 1)) )], color=\"black\", size=10)\n",
        "plt.ylim(0,max_value)\n",
        "\n",
        "ax.plot(angles, values, linewidth=1, linestyle='solid')\n",
        "ax.fill(angles, values, 'b', alpha=0.1)\n",
        "\n",
        "plt.show()\n"
      ],
      "execution_count": 32,
      "outputs": [
        {
          "output_type": "display_data",
          "data": {
            "image/png": "[encoded data removed]",
            "text/plain": [
              "<Figure size 432x288 with 1 Axes>"
            ]
          },
          "metadata": {
            "needs_background": "light"
          }
        }
      ]
    },
    {
      "cell_type": "code",
      "metadata": {
        "id": "Mp9km3rCytjA"
      },
      "source": [
        ""
      ],
      "execution_count": null,
      "outputs": []
    }
  ]
}