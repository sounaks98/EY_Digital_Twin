{
  "nbformat": 4,
  "nbformat_minor": 0,
  "metadata": {
    "colab": {
      "name": "ph_lstm_model.ipynb",
      "provenance": [],
      "collapsed_sections": []
    },
    "kernelspec": {
      "name": "python3",
      "display_name": "Python 3"
    },
    "language_info": {
      "name": "python"
    }
  },
  "cells": [
    {
      "cell_type": "markdown",
      "metadata": {
        "id": "dy0VQPOA2mN1"
      },
      "source": [
        "#LSTM Model For Physical Health"
      ]
    },
    {
      "cell_type": "code",
      "metadata": {
        "id": "l_qzor2T2kCv"
      },
      "source": [
        "import numpy as np\n",
        "import pandas as pd\n",
        "import pickle\n",
        "from math import pi\n",
        "import matplotlib.pyplot as plt\n",
        "\n",
        "import tensorflow as tf\n",
        "from tensorflow.keras.preprocessing.text import Tokenizer\n",
        "from tensorflow.keras.preprocessing.sequence import pad_sequences\n",
        "from tensorflow.keras.layers import Embedding,LSTM,Dropout,Dense,TimeDistributed,Input,Reshape\n"
      ],
      "execution_count": null,
      "outputs": []
    },
    {
      "cell_type": "markdown",
      "metadata": {
        "id": "ywqRddlpd_kw"
      },
      "source": [
        "## Training The Model"
      ]
    },
    {
      "cell_type": "code",
      "metadata": {
        "id": "QqFw8hftf8y1"
      },
      "source": [
        "#initializing mental risks\n",
        "physical_risks_list = ['diabetes type 2','physically healthy','heart diseases',\n",
        "                     'stroke','lung disorder','body pain','indigation','cancer','prediabetes']\n",
        "\n",
        "# create the training data\n",
        "path_list = [\"/content/physical_health_data_year-1.csv\",\"/content/physical_health_data_year-2.csv\",\n",
        "             \"/content/physical_health_data_year-3.csv\",\"/content/physical_health_data_year-4.csv\",\"/content/physical_health_data_year-5.csv\"]\n"
      ],
      "execution_count": null,
      "outputs": []
    },
    {
      "cell_type": "code",
      "metadata": {
        "id": "LOKLw0PN27NN"
      },
      "source": [
        "# sample dataframe\n",
        "df = pd.read_csv(path_list[0])\n",
        "\n",
        "traindf = pd.DataFrame(\"\", index=range(0,len(df)),columns=df.columns)\n",
        "\n",
        "for i in range(0,len(path_list)):\n",
        "  data = pd.read_csv(path_list[i])\n",
        "\n",
        "  for col in data.columns:\n",
        "    traindf[col] += data[col]+\",\"\n",
        "\n",
        "traindf.to_csv(\"physical_health_training.csv\",index=False)\n"
      ],
      "execution_count": null,
      "outputs": []
    },
    {
      "cell_type": "code",
      "metadata": {
        "colab": {
          "base_uri": "https://localhost:8080/",
          "height": 293
        },
        "id": "hPoRRV8S466U",
        "outputId": "1fdcaeda-f865-4801-d2ca-76a648139ca1"
      },
      "source": [
        "traindf.head()"
      ],
      "execution_count": null,
      "outputs": [
        {
          "output_type": "execute_result",
          "data": {
            "text/html": [
              "<div>\n",
              "<style scoped>\n",
              "    .dataframe tbody tr th:only-of-type {\n",
              "        vertical-align: middle;\n",
              "    }\n",
              "\n",
              "    .dataframe tbody tr th {\n",
              "        vertical-align: top;\n",
              "    }\n",
              "\n",
              "    .dataframe thead th {\n",
              "        text-align: right;\n",
              "    }\n",
              "</style>\n",
              "<table border=\"1\" class=\"dataframe\">\n",
              "  <thead>\n",
              "    <tr style=\"text-align: right;\">\n",
              "      <th></th>\n",
              "      <th>Health Conditions</th>\n",
              "      <th>Lifestyle</th>\n",
              "      <th>Workstyles</th>\n",
              "      <th>Chronic Conditions</th>\n",
              "    </tr>\n",
              "  </thead>\n",
              "  <tbody>\n",
              "    <tr>\n",
              "      <th>0</th>\n",
              "      <td>age, cholesterol, prediabetes, genetic, obesi...</td>\n",
              "      <td>stress, financial pressure,inactivity, poor d...</td>\n",
              "      <td>shift work, less relax, work stress, posture,...</td>\n",
              "      <td>heart diseases,diabetes type 2,body pain,predi...</td>\n",
              "    </tr>\n",
              "    <tr>\n",
              "      <th>1</th>\n",
              "      <td>obesity,regular health checkup, regular healt...</td>\n",
              "      <td>smoking, inactivity, humour, pollution, pollut...</td>\n",
              "      <td>NaN</td>\n",
              "      <td>body pain,physically healthy,lung disorder,lun...</td>\n",
              "    </tr>\n",
              "    <tr>\n",
              "      <th>2</th>\n",
              "      <td>genetic, genetic, obesity, obesity, obesity, ...</td>\n",
              "      <td>smoking, less sleep, inactivity,smoking, poor ...</td>\n",
              "      <td>NaN</td>\n",
              "      <td>lung disorder,indigation,body pain,diabetes ty...</td>\n",
              "    </tr>\n",
              "    <tr>\n",
              "      <th>3</th>\n",
              "      <td>cholesterol,genetic, genetic, age,diabetes, o...</td>\n",
              "      <td>irregular sleep, financial pressure, inactivi...</td>\n",
              "      <td>, posture, posture, overtime,shift work,less ...</td>\n",
              "      <td>heart diseases,body pain,cancer,indigation,bod...</td>\n",
              "    </tr>\n",
              "    <tr>\n",
              "      <th>4</th>\n",
              "      <td>genetic, asthema, age, obesity, genetic, gene...</td>\n",
              "      <td>pollution,smoking,age, poor diet, irregular s...</td>\n",
              "      <td>NaN</td>\n",
              "      <td>lung disorder,cancer,prediabetes,body pain,str...</td>\n",
              "    </tr>\n",
              "  </tbody>\n",
              "</table>\n",
              "</div>"
            ],
            "text/plain": [
              "                                   Health Conditions  ...                                 Chronic Conditions\n",
              "0   age, cholesterol, prediabetes, genetic, obesi...  ...  heart diseases,diabetes type 2,body pain,predi...\n",
              "1   obesity,regular health checkup, regular healt...  ...  body pain,physically healthy,lung disorder,lun...\n",
              "2   genetic, genetic, obesity, obesity, obesity, ...  ...  lung disorder,indigation,body pain,diabetes ty...\n",
              "3   cholesterol,genetic, genetic, age,diabetes, o...  ...  heart diseases,body pain,cancer,indigation,bod...\n",
              "4   genetic, asthema, age, obesity, genetic, gene...  ...  lung disorder,cancer,prediabetes,body pain,str...\n",
              "\n",
              "[5 rows x 4 columns]"
            ]
          },
          "metadata": {},
          "execution_count": 7
        }
      ]
    },
    {
      "cell_type": "code",
      "metadata": {
        "id": "hdKbXIbVfffj"
      },
      "source": [
        "# editing the data\n",
        "def clean_text(traindf):\n",
        "\n",
        "  for col in traindf.columns:\n",
        "    for row in range(len(traindf)):\n",
        "      try:\n",
        "        traindf.iloc[row][col] = traindf.iloc[row][col].replace(\", \", \",\")\n",
        "        \n",
        "        # remove spaces from both end of string\n",
        "        traindf.iloc[row][col] = traindf.iloc[row][col].strip(\" \")\n",
        "\n",
        "        # replace \" \" with \"_\"\n",
        "        traindf.iloc[row][col] = traindf.iloc[row][col].replace(\" \", \"_\")\n",
        "      except AttributeError:\n",
        "        break\n",
        "  \n",
        "  return traindf\n"
      ],
      "execution_count": null,
      "outputs": []
    },
    {
      "cell_type": "code",
      "metadata": {
        "colab": {
          "base_uri": "https://localhost:8080/",
          "height": 226
        },
        "id": "cng1u6pPhn6t",
        "outputId": "6d10da09-385a-42e6-88a5-eee3c5e5f865"
      },
      "source": [
        "traindf = traindf.fillna(\"\")\n",
        "\n",
        "traindf = clean_text(traindf)\n",
        "traindf.head()"
      ],
      "execution_count": null,
      "outputs": [
        {
          "output_type": "execute_result",
          "data": {
            "text/html": [
              "<div>\n",
              "<style scoped>\n",
              "    .dataframe tbody tr th:only-of-type {\n",
              "        vertical-align: middle;\n",
              "    }\n",
              "\n",
              "    .dataframe tbody tr th {\n",
              "        vertical-align: top;\n",
              "    }\n",
              "\n",
              "    .dataframe thead th {\n",
              "        text-align: right;\n",
              "    }\n",
              "</style>\n",
              "<table border=\"1\" class=\"dataframe\">\n",
              "  <thead>\n",
              "    <tr style=\"text-align: right;\">\n",
              "      <th></th>\n",
              "      <th>Health Conditions</th>\n",
              "      <th>Lifestyle</th>\n",
              "      <th>Workstyles</th>\n",
              "      <th>Chronic Conditions</th>\n",
              "    </tr>\n",
              "  </thead>\n",
              "  <tbody>\n",
              "    <tr>\n",
              "      <th>0</th>\n",
              "      <td>age,cholesterol,prediabetes,genetic,obesity,ge...</td>\n",
              "      <td>stress,financial_pressure,inactivity,poor_diet...</td>\n",
              "      <td>shift_work,less_relax,work_stress,posture,less...</td>\n",
              "      <td>heart_diseases,diabetes_type_2,body_pain,predi...</td>\n",
              "    </tr>\n",
              "    <tr>\n",
              "      <th>1</th>\n",
              "      <td>obesity,regular_health_checkup,regular_health_...</td>\n",
              "      <td>smoking,inactivity,humour,pollution,pollution,...</td>\n",
              "      <td></td>\n",
              "      <td>body_pain,physically_healthy,lung_disorder,lun...</td>\n",
              "    </tr>\n",
              "    <tr>\n",
              "      <th>2</th>\n",
              "      <td>genetic,genetic,obesity,obesity,obesity,obesit...</td>\n",
              "      <td>smoking,less_sleep,inactivity,smoking,poor_die...</td>\n",
              "      <td></td>\n",
              "      <td>lung_disorder,indigation,body_pain,diabetes_ty...</td>\n",
              "    </tr>\n",
              "    <tr>\n",
              "      <th>3</th>\n",
              "      <td>cholesterol,genetic,genetic,age,diabetes,obesi...</td>\n",
              "      <td>irregular_sleep,financial_pressure,inactivity,...</td>\n",
              "      <td>, posture, posture, overtime,shift work,less ...</td>\n",
              "      <td>heart_diseases,body_pain,cancer,indigation,bod...</td>\n",
              "    </tr>\n",
              "    <tr>\n",
              "      <th>4</th>\n",
              "      <td>genetic,asthema,age,obesity,genetic,genetic,ea...</td>\n",
              "      <td>pollution,smoking,age,poor_diet,irregular_slee...</td>\n",
              "      <td></td>\n",
              "      <td>lung_disorder,cancer,prediabetes,body_pain,str...</td>\n",
              "    </tr>\n",
              "  </tbody>\n",
              "</table>\n",
              "</div>"
            ],
            "text/plain": [
              "                                   Health Conditions  ...                                 Chronic Conditions\n",
              "0  age,cholesterol,prediabetes,genetic,obesity,ge...  ...  heart_diseases,diabetes_type_2,body_pain,predi...\n",
              "1  obesity,regular_health_checkup,regular_health_...  ...  body_pain,physically_healthy,lung_disorder,lun...\n",
              "2  genetic,genetic,obesity,obesity,obesity,obesit...  ...  lung_disorder,indigation,body_pain,diabetes_ty...\n",
              "3  cholesterol,genetic,genetic,age,diabetes,obesi...  ...  heart_diseases,body_pain,cancer,indigation,bod...\n",
              "4  genetic,asthema,age,obesity,genetic,genetic,ea...  ...  lung_disorder,cancer,prediabetes,body_pain,str...\n",
              "\n",
              "[5 rows x 4 columns]"
            ]
          },
          "metadata": {},
          "execution_count": 14
        }
      ]
    },
    {
      "cell_type": "code",
      "metadata": {
        "id": "5XHKwzVz7XxM"
      },
      "source": [
        "#input consists of health, lifestyle and workstyle\n",
        "inp = list()\n",
        "\n",
        "for hm, lm, wm in zip(traindf['Health Conditions'],traindf['Lifestyle'],traindf['Workstyles']):\n",
        "  health = [w for w in hm.split(\",\")]\n",
        "  health.pop(-1)\n",
        "\n",
        "  lstyle = [w for w in lm.split(\",\")]\n",
        "  lstyle.pop(-1)\n",
        "\n",
        "  wstyle = [w for w in wm.split(\",\")]\n",
        "  wstyle.pop(-1)\n",
        "\n",
        "  inp.append(health + lstyle + wstyle) \n",
        "\n",
        "#output consists of possible mental risks\n",
        "mental_risk = list()\n",
        "\n",
        "for m in traindf['Chronic Conditions']:\n",
        "  risks = [w for w in m.split(\",\")]\n",
        "  risks.pop(-1)\n",
        "\n",
        "  mental_risk.append(risks)\n"
      ],
      "execution_count": null,
      "outputs": []
    },
    {
      "cell_type": "code",
      "metadata": {
        "colab": {
          "base_uri": "https://localhost:8080/"
        },
        "id": "X5O_8kwe9AEI",
        "outputId": "681c79ef-1b93-48f1-c3c7-c609b15112d6"
      },
      "source": [
        "MAX_LEN = 30\n",
        "\n",
        "#inp tokenizer for input data\n",
        "inp_token = Tokenizer()\n",
        "inp_token.fit_on_texts(inp)\n",
        "inp_dict = inp_token.word_index\n",
        "\n",
        "xseq = inp_token.texts_to_sequences(inp)\n",
        "xpadseq = pad_sequences(xseq,maxlen=MAX_LEN,padding='post')\n",
        "\n",
        "#output tokenizer for output data\n",
        "out_token = Tokenizer()\n",
        "out_token.fit_on_texts(mental_risk)\n",
        "out_dict = out_token.word_index\n",
        "\n",
        "yseq = out_token.texts_to_sequences(mental_risk)\n",
        "ypadseq = pad_sequences(yseq,maxlen=MAX_LEN,padding='post')\n",
        "\n",
        "print([xpadseq[0],ypadseq[0]])\n"
      ],
      "execution_count": null,
      "outputs": [
        {
          "output_type": "stream",
          "name": "stdout",
          "text": [
            "[array([ 9, 20, 29,  3,  2,  3, 37, 41, 26,  6,  4,  1,  1, 45, 45, 52, 51,\n",
            "       50, 53, 51, 50, 50, 35, 35,  0,  0,  0,  0,  0,  0], dtype=int32), array([5, 2, 3, 8, 9, 0, 0, 0, 0, 0, 0, 0, 0, 0, 0, 0, 0, 0, 0, 0, 0, 0,\n",
            "       0, 0, 0, 0, 0, 0, 0, 0], dtype=int32)]\n"
          ]
        }
      ]
    },
    {
      "cell_type": "code",
      "metadata": {
        "colab": {
          "base_uri": "https://localhost:8080/"
        },
        "id": "9iFMjwBidQdu",
        "outputId": "8337f1b5-0d92-40d1-fa2d-3d4223ea8363"
      },
      "source": [
        "vocab = len(inp_dict) + 1\n",
        "num_classes = len(out_dict) + 1\n",
        "\n",
        "yvec = tf.keras.utils.to_categorical(ypadseq,num_classes=num_classes)\n",
        "\n",
        "model = tf.keras.models.Sequential([\n",
        "    Embedding(vocab,256,input_length=MAX_LEN),\n",
        "\n",
        "    Dropout(0.2),\n",
        "\n",
        "    LSTM(256,input_shape=(MAX_LEN,1),return_sequences=True),\n",
        "    LSTM(256,input_shape=(MAX_LEN,1),return_sequences=True),\n",
        "\n",
        "    TimeDistributed(Dense(units=num_classes,activation=tf.nn.softmax))\n",
        "])\n",
        "model.summary()\n"
      ],
      "execution_count": null,
      "outputs": [
        {
          "output_type": "stream",
          "name": "stdout",
          "text": [
            "Model: \"sequential\"\n",
            "_________________________________________________________________\n",
            "Layer (type)                 Output Shape              Param #   \n",
            "=================================================================\n",
            "embedding (Embedding)        (None, 30, 256)           13824     \n",
            "_________________________________________________________________\n",
            "dropout (Dropout)            (None, 30, 256)           0         \n",
            "_________________________________________________________________\n",
            "lstm (LSTM)                  (None, 30, 256)           525312    \n",
            "_________________________________________________________________\n",
            "lstm_1 (LSTM)                (None, 30, 256)           525312    \n",
            "_________________________________________________________________\n",
            "time_distributed (TimeDistri (None, 30, 10)            2570      \n",
            "=================================================================\n",
            "Total params: 1,067,018\n",
            "Trainable params: 1,067,018\n",
            "Non-trainable params: 0\n",
            "_________________________________________________________________\n"
          ]
        }
      ]
    },
    {
      "cell_type": "code",
      "metadata": {
        "colab": {
          "base_uri": "https://localhost:8080/"
        },
        "id": "kMCjq2FDnhrU",
        "outputId": "bf7d1d0e-322f-4702-afe6-f859ea37000d"
      },
      "source": [
        "reduced_lr = tf.keras.callbacks.ReduceLROnPlateau(\n",
        "    monitor='loss',\n",
        "    factor=0.1,\n",
        "    min_lr=1e-9,\n",
        "    patience=3,\n",
        "    cooldown=1\n",
        ")\n",
        "model.compile(loss=\"categorical_crossentropy\",optimizer='rmsprop',metrics=[\"accuracy\"])\n",
        "\n",
        "history = model.fit(xpadseq,yvec,epochs=10,callbacks=[reduced_lr],verbose=1,batch_size=8)"
      ],
      "execution_count": null,
      "outputs": [
        {
          "output_type": "stream",
          "name": "stdout",
          "text": [
            "Epoch 1/10\n",
            "63/63 [==============================] - 15s 181ms/step - loss: 0.4699 - accuracy: 0.8280\n",
            "Epoch 2/10\n",
            "63/63 [==============================] - 11s 182ms/step - loss: 0.3879 - accuracy: 0.8521\n",
            "Epoch 3/10\n",
            "63/63 [==============================] - 12s 183ms/step - loss: 0.3785 - accuracy: 0.8549\n",
            "Epoch 4/10\n",
            "63/63 [==============================] - 12s 185ms/step - loss: 0.3726 - accuracy: 0.8566\n",
            "Epoch 5/10\n",
            "63/63 [==============================] - 12s 185ms/step - loss: 0.3730 - accuracy: 0.8575\n",
            "Epoch 6/10\n",
            "63/63 [==============================] - 12s 183ms/step - loss: 0.3662 - accuracy: 0.8594\n",
            "Epoch 7/10\n",
            "63/63 [==============================] - 12s 183ms/step - loss: 0.3605 - accuracy: 0.8643\n",
            "Epoch 8/10\n",
            "63/63 [==============================] - 12s 183ms/step - loss: 0.3534 - accuracy: 0.8671\n",
            "Epoch 9/10\n",
            "63/63 [==============================] - 11s 182ms/step - loss: 0.3438 - accuracy: 0.8696\n",
            "Epoch 10/10\n",
            "63/63 [==============================] - 11s 183ms/step - loss: 0.3390 - accuracy: 0.8719\n"
          ]
        }
      ]
    },
    {
      "cell_type": "code",
      "metadata": {
        "colab": {
          "base_uri": "https://localhost:8080/",
          "height": 545
        },
        "id": "2KQEe8BhqhAw",
        "outputId": "8505888f-c1c7-40a3-ce9d-478ee643e903"
      },
      "source": [
        "loss = history.history['loss']\n",
        "acc = history.history['accuracy']\n",
        "\n",
        "epoch = range(len(loss))\n",
        "\n",
        "plt.plot(epoch,loss,'r',label='training loss')\n",
        "plt.title('Loss Graph')\n",
        "plt.legend()\n",
        "plt.figure()\n",
        "plt.plot(epoch,acc,'b',label='training acc')\n",
        "plt.title('Acc Graph')\n",
        "plt.legend()\n",
        "plt.show()\n"
      ],
      "execution_count": null,
      "outputs": [
        {
          "output_type": "display_data",
          "data": {
            "image/png": "[encoded data removed]",
            "text/plain": [
              "<Figure size 432x288 with 1 Axes>"
            ]
          },
          "metadata": {
            "needs_background": "light"
          }
        },
        {
          "output_type": "display_data",
          "data": {
            "image/png": "[encoded data removed]",
            "text/plain": [
              "<Figure size 432x288 with 1 Axes>"
            ]
          },
          "metadata": {
            "needs_background": "light"
          }
        }
      ]
    },
    {
      "cell_type": "code",
      "metadata": {
        "id": "5X2NzxgtrUO1"
      },
      "source": [
        "# storing the model parameters\n",
        "model.save(\"ph_lstm_model.h5\")\n",
        "\n",
        "# input dictionary\n",
        "dfile = open(\"ph_inp_dict.pkl\",'wb')\n",
        "pickle.dump(inp_dict, dfile)\n",
        "dfile.close()\n",
        "\n",
        "# output dictionary\n",
        "dfile = open(\"ph_out_dict.pkl\",'wb')\n",
        "pickle.dump(out_dict, dfile)\n",
        "dfile.close()\n"
      ],
      "execution_count": null,
      "outputs": []
    },
    {
      "cell_type": "markdown",
      "metadata": {
        "id": "2c0ApR1GtJqB"
      },
      "source": [
        "## Loading model and testing outputs"
      ]
    },
    {
      "cell_type": "code",
      "metadata": {
        "id": "Hk5MjFFxr6-a"
      },
      "source": [
        "# loading all the model files\n",
        "model = tf.keras.models.load_model(\"/content/ph_lstm_model.h5\")\n",
        "\n",
        "dfile = open(\"/content/ph_inp_dict.pkl\", \"rb\")\n",
        "inp_dict = pickle.load(dfile)\n",
        "\n",
        "dfile = open(\"/content/ph_out_dict.pkl\", \"rb\")\n",
        "out_dict = pickle.load(dfile)\n"
      ],
      "execution_count": null,
      "outputs": []
    },
    {
      "cell_type": "code",
      "metadata": {
        "id": "j8WwQzochhlB"
      },
      "source": [
        "test_case_1 = {\n",
        "        \"Health\": [\"obesity, diabetes, cholesterol, cholesterol, prediabetes\"],\n",
        "        \"Lifestyle\": [\"poor diet, irregular sleep, less sleep, smoking, smoking, smoking, pollution\"],\n",
        "        \"Work Style\": [\"work stress, work stress, work stress\"]\n",
        "}\n",
        "\n",
        "test_case_2 = {\n",
        "        \"Health\": [\"anxiety, high blood pressure, hormonal imbalance, vitamin deficiency, thyroid, hormonal imbalance, thyroid, post traumatic stress\"],\n",
        "        \"Lifestyle\": [\"alcohol, drug abuse, poor diet, stress, irregular sleep, confused, panic, high screen time, poor diet, hypnosis, day dream, fake emotions\"],\n",
        "        \"Work Style\": [\"overtime, work stress, repeating tasks, improper recognition, work stress, work relations, overtime, negative work relations, repeating tasks\"]\n",
        "}\n",
        "\n",
        "test_case_3 = {\n",
        "        \"Health\": [\"post traumatic stress, chronic pain, ocd, thyroid, diabetes, heart disorder\"],\n",
        "        \"Lifestyle\": [\"history of abuse, low self esteem, high screen time, family, lack of relationships, negative social connection\"],\n",
        "        \"Work Style\": [\"work stress, underperformer, introvert, incomplete tasks\"]\n",
        "}\n",
        "\n",
        "test_case_4 = {\n",
        "        \"Health\": [\"\"],\n",
        "        \"Lifestyle\": [\"alcohol, drug abuse, poor diet\"],\n",
        "        \"Work Style\": [\"work stress, underperformer, introvert\"]\n",
        "}\n"
      ],
      "execution_count": null,
      "outputs": []
    },
    {
      "cell_type": "code",
      "metadata": {
        "id": "XEE3rpBIuWUP"
      },
      "source": [
        "MAX_LEN = 30\n",
        "\n",
        "# creating testing text\n",
        "testdf = pd.DataFrame(test_case_1)\n",
        "\n",
        "testdf = clean_text(testdf)\n",
        "\n",
        "# encoding new text with inp dictionary\n",
        "testinp = list()\n",
        "\n",
        "for hm, lm, wm in zip(testdf['Health'],testdf['Lifestyle'],testdf['Work Style']):\n",
        "  health = [w for w in hm.split(\",\")]\n",
        "  health.pop(-1)\n",
        "\n",
        "  lstyle = [w for w in lm.split(\",\")]\n",
        "  lstyle.pop(-1)\n",
        "\n",
        "  wstyle = [w for w in wm.split(\",\")]\n",
        "  wstyle.pop(-1)\n",
        "\n",
        "  testinp.append(health + lstyle + wstyle) \n",
        "\n",
        "# initializing the tokenizer with pre-built dictionary\n",
        "test_token = Tokenizer()\n",
        "test_token.word_index = inp_dict\n",
        "xseq = test_token.texts_to_sequences(testinp)\n",
        "xpadseq = pad_sequences(xseq,maxlen=MAX_LEN,padding='post')\n",
        "\n",
        "# predicting the output\n",
        "predicted = model.predict(xpadseq)\n",
        "final_list = list()\n",
        "\n",
        "for i in range(len(predicted)):\n",
        "  res = list()\n",
        "  pred = np.round( np.argmax(predicted[i],axis=1) )\n",
        "\n",
        "  for w in pred:\n",
        "    for word, index in out_dict.items():\n",
        "      if index == w:\n",
        "        res.append(word)\n",
        "        break\n",
        "    \n",
        "  final_list.append(res)\n"
      ],
      "execution_count": null,
      "outputs": []
    },
    {
      "cell_type": "code",
      "metadata": {
        "id": "aJMp3p3xvPfr",
        "colab": {
          "base_uri": "https://localhost:8080/"
        },
        "outputId": "094fbcd5-ebbf-4078-f8ed-621d81f3c09f"
      },
      "source": [
        "final_list"
      ],
      "execution_count": null,
      "outputs": [
        {
          "output_type": "execute_result",
          "data": {
            "text/plain": [
              "[['body_pain', 'stroke', 'diabetes_type_2', 'diabetes_type_2', 'body_pain']]"
            ]
          },
          "metadata": {},
          "execution_count": 31
        }
      ]
    },
    {
      "cell_type": "code",
      "metadata": {
        "colab": {
          "base_uri": "https://localhost:8080/",
          "height": 282
        },
        "id": "6TnDti0699C9",
        "outputId": "147f410a-54b5-4587-86b2-824185a03775"
      },
      "source": [
        "# the score dictionary\n",
        "score_dict = dict()\n",
        "\n",
        "N = len(physical_risks_list)\n",
        "\n",
        "for risk in physical_risks_list:\n",
        "  score_dict[risk] = 0\n",
        "\n",
        "for risk in final_list[0]:\n",
        "  for key in score_dict.keys():\n",
        "    if key == risk:\n",
        "      score_dict[key] += 1    \n",
        "\n",
        "angles = [n / float(N) * 2 * pi for n in range(N)]\n",
        "\n",
        "values = list(score_dict.values())\n",
        "categories = list(score_dict.keys())\n",
        "\n",
        "ax = plt.subplot(111, polar=True)\n",
        "plt.xticks(angles, categories, color='black', size=8)\n",
        "\n",
        "max_idx = max(score_dict, key=score_dict.get)\n",
        "max_value = score_dict[max_idx]\n",
        "\n",
        "ax.set_rlabel_position(0)\n",
        "plt.yticks(list( range(0,(max_value + 1)) ), [str(n) for n in list( range(0,(max_value + 1)) )], color=\"black\", size=10)\n",
        "plt.ylim(0,max_value)\n",
        "\n",
        "ax.plot(angles, values, linewidth=1, linestyle='solid')\n",
        "ax.fill(angles, values, 'b', alpha=0.1)\n",
        "\n",
        "plt.show()\n"
      ],
      "execution_count": null,
      "outputs": [
        {
          "output_type": "display_data",
          "data": {
            "image/png": "[encoded data removed]",
            "text/plain": [
              "<Figure size 432x288 with 1 Axes>"
            ]
          },
          "metadata": {
            "needs_background": "light"
          }
        }
      ]
    },
    {
      "cell_type": "code",
      "metadata": {
        "id": "Mp9km3rCytjA"
      },
      "source": [
        ""
      ],
      "execution_count": null,
      "outputs": []
    }
  ]
}