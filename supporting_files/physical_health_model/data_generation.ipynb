{
  "nbformat": 4,
  "nbformat_minor": 0,
  "metadata": {
    "colab": {
      "name": "data_generation.ipynb",
      "provenance": [],
      "collapsed_sections": []
    },
    "kernelspec": {
      "name": "python3",
      "display_name": "Python 3"
    },
    "language_info": {
      "name": "python"
    }
  },
  "cells": [
    {
      "cell_type": "code",
      "metadata": {
        "id": "1jktxPeaeZgd"
      },
      "source": [
        "#import essentials\n",
        "import pandas as pd\n",
        "import numpy as np\n",
        "\n",
        "import warnings\n",
        "warnings.filterwarnings('ignore')"
      ],
      "execution_count": null,
      "outputs": []
    },
    {
      "cell_type": "code",
      "metadata": {
        "id": "u-DIdHJje_2B"
      },
      "source": [
        "class data_generator:\n",
        "  def __init__(self, path):\n",
        "    # loading the base data\n",
        "    self.data = pd.read_csv(path)\n",
        "    self.columns = self.data.columns\n",
        "  \n",
        "    # initializing the \"mental risk\" graph\n",
        "    self.data_graph = {\n",
        "        'heart diseases':['diabetes type 2','heart diseases','stroke','lung disorder','body pain','indigation','cancer','prediabetes'],\n",
        "        'stroke':['diabetes type 2','heart diseases','stroke','lung disorder','body pain','indigation','cancer','prediabetes'],\n",
        "        'prediabetes':['diabetes type 2','physically healthy','heart diseases','stroke','lung disorder','body pain','indigation','cancer','prediabetes'],\n",
        "        'diabetes type 2':['diabetes type 2','heart diseases','stroke','lung disorder','body pain','indigation','cancer'],\n",
        "        'lung disorder':['diabetes type 2','heart diseases','stroke','lung disorder','body pain','indigation','cancer','prediabetes'],\n",
        "        'body pain':['diabetes type 2','physically healthy','heart diseases','stroke','lung disorder','body pain','indigation','cancer','prediabetes'],\n",
        "        'indigation':['diabetes type 2','physically healthy','heart diseases','stroke','lung disorder','body pain','indigation','cancer','prediabetes'],\n",
        "        'cancer':['diabetes type 2','heart diseases','stroke','lung disorder','body pain','indigation','cancer','prediabetes'],\n",
        "        'physically healthy':['diabetes type 2','physically healthy','heart diseases','stroke','lung disorder','body pain','indigation','cancer','prediabetes'],\n",
        "\n",
        "    }\n",
        "\n",
        "  def __get_list__(self,string,bounds):\n",
        "    try:\n",
        "      lst = [w for w in string.split(\",\")]\n",
        "      s = \"\"\n",
        "      count = np.random.randint(bounds[0],bounds[1])\n",
        "    except AttributeError:\n",
        "      return \"\"\n",
        "\n",
        "    try:\n",
        "      for i in range(0,count):\n",
        "        s += np.random.choice(lst)+\",\"\n",
        "    except IndexError:\n",
        "       s += np.random.choice(lst)+\",\"\n",
        "\n",
        "    return s[:-1]\n",
        "\n",
        "  # get risk based on previous risks  \n",
        "  def __get_risk__(self,prev_df,row,target):\n",
        "    prev_risk = prev_df.iloc[row][target]\n",
        "    return np.random.choice(self.data_graph[prev_risk])\n",
        "\n",
        "  def get_data(self, num_entries=500, num_years=5, target='Mental Risks'):\n",
        "    output = list()\n",
        "\n",
        "    for year in range(num_years):\n",
        "      df = pd.DataFrame(None, index = range(0,num_entries), columns = self.data.columns)\n",
        "\n",
        "      # initializing the \"Mental Risk\" column\n",
        "      for row in range(num_entries):\n",
        "        if year == 0:\n",
        "          risk = np.random.choice(self.data[target])\n",
        "        else:\n",
        "          risk = self.__get_risk__(output[year - 1],row,target)\n",
        "        \n",
        "        df.iloc[row][target] = risk\n",
        "      \n",
        "        # choose features from risk\n",
        "        i = 0\n",
        "\n",
        "        while i < len(self.data):\n",
        "          if risk == self.data.iloc[i][target]:\n",
        "            break\n",
        "          i += 1\n",
        "          \n",
        "        for col in self.data.columns[:-1]:\n",
        "          bounds = [1,3]\n",
        "          df.iloc[row][col] = self.__get_list__(self.data.iloc[i][col],bounds)\n",
        "        \n",
        "      output.append(df)\n",
        "\n",
        "    return output # return list of generated dataframes\n",
        "\n"
      ],
      "execution_count": null,
      "outputs": []
    },
    {
      "cell_type": "code",
      "metadata": {
        "id": "7dHenkZGldw2"
      },
      "source": [
        "generator = data_generator(\"/content/Physical_health_base.csv\")\n",
        "output = generator.get_data(target='Chronic Conditions')\n"
      ],
      "execution_count": null,
      "outputs": []
    },
    {
      "cell_type": "code",
      "metadata": {
        "id": "f1Gugg3ByAs_"
      },
      "source": [
        "# save the dataframes\n",
        "for i, df in zip(range(len(output)), output):\n",
        "  df.to_csv(\"physical_health_data_year-\"+str(i+1)+\".csv\",index=False)\n"
      ],
      "execution_count": null,
      "outputs": []
    },
    {
      "cell_type": "code",
      "metadata": {
        "id": "MkqcKjQazD1A"
      },
      "source": [
        ""
      ],
      "execution_count": null,
      "outputs": []
    }
  ]
}