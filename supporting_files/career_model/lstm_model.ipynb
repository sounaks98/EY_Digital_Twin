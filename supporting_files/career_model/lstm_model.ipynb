{
  "nbformat": 4,
  "nbformat_minor": 0,
  "metadata": {
    "colab": {
      "name": "c_lstm_model.ipynb",
      "provenance": [],
      "collapsed_sections": []
    },
    "kernelspec": {
      "name": "python3",
      "display_name": "Python 3"
    },
    "language_info": {
      "name": "python"
    }
  },
  "cells": [
    {
      "cell_type": "markdown",
      "metadata": {
        "id": "dy0VQPOA2mN1"
      },
      "source": [
        "#LSTM Model For Career"
      ]
    },
    {
      "cell_type": "code",
      "metadata": {
        "id": "l_qzor2T2kCv"
      },
      "source": [
        "import numpy as np\n",
        "import pandas as pd\n",
        "import pickle\n",
        "from math import pi\n",
        "import matplotlib.pyplot as plt\n",
        "\n",
        "import tensorflow as tf\n",
        "from tensorflow.keras.preprocessing.text import Tokenizer\n",
        "from tensorflow.keras.preprocessing.sequence import pad_sequences\n",
        "from tensorflow.keras.layers import Embedding,LSTM,Dropout,Dense,TimeDistributed,Input,Reshape\n"
      ],
      "execution_count": 2,
      "outputs": []
    },
    {
      "cell_type": "markdown",
      "metadata": {
        "id": "ywqRddlpd_kw"
      },
      "source": [
        "## Training The Model"
      ]
    },
    {
      "cell_type": "code",
      "metadata": {
        "id": "QqFw8hftf8y1"
      },
      "source": [
        "#initializing targets\n",
        "target_list = ['software_developer','senior_software_developer','database_admin','business_analyst','site_reliability_engineer',\n",
        "               'data_scientist','research_&_development','technical_writer','technical_support','trainer_or_teacher',\n",
        "               'technical_recruiter','sales_engineer','manager','scrum_master','machine_learning_engineer']\n",
        "\n",
        "# create the training data\n",
        "path_list = [\"/content/career_data_year-1.csv\",\"/content/career_data_year-2.csv\",\n",
        "             \"/content/career_data_year-3.csv\",\"/content/career_data_year-4.csv\",\"/content/career_data_year-5.csv\"]\n"
      ],
      "execution_count": 1,
      "outputs": []
    },
    {
      "cell_type": "code",
      "metadata": {
        "id": "LOKLw0PN27NN"
      },
      "source": [
        "# sample dataframe\n",
        "df = pd.read_csv(path_list[0])\n",
        "\n",
        "traindf = pd.DataFrame(\"\", index=range(0,len(df)),columns=df.columns)\n",
        "\n",
        "for i in range(0,len(path_list)):\n",
        "  data = pd.read_csv(path_list[i])\n",
        "\n",
        "  for col in data.columns:\n",
        "    traindf[col] += data[col]+\",\"\n",
        "\n",
        "traindf.to_csv(\"career_training.csv\",index=False)\n"
      ],
      "execution_count": 3,
      "outputs": []
    },
    {
      "cell_type": "code",
      "metadata": {
        "colab": {
          "base_uri": "https://localhost:8080/",
          "height": 293
        },
        "id": "hPoRRV8S466U",
        "outputId": "3a441bf9-dc29-44cd-8504-595e6e0c094e"
      },
      "source": [
        "traindf.head()"
      ],
      "execution_count": 4,
      "outputs": [
        {
          "output_type": "execute_result",
          "data": {
            "text/html": [
              "<div>\n",
              "<style scoped>\n",
              "    .dataframe tbody tr th:only-of-type {\n",
              "        vertical-align: middle;\n",
              "    }\n",
              "\n",
              "    .dataframe tbody tr th {\n",
              "        vertical-align: top;\n",
              "    }\n",
              "\n",
              "    .dataframe thead th {\n",
              "        text-align: right;\n",
              "    }\n",
              "</style>\n",
              "<table border=\"1\" class=\"dataframe\">\n",
              "  <thead>\n",
              "    <tr style=\"text-align: right;\">\n",
              "      <th></th>\n",
              "      <th>Skills</th>\n",
              "      <th>Interest</th>\n",
              "      <th>Workstyle</th>\n",
              "      <th>Best Fit</th>\n",
              "    </tr>\n",
              "  </thead>\n",
              "  <tbody>\n",
              "    <tr>\n",
              "      <th>0</th>\n",
              "      <td>analytical thinking, flexible, decision makin...</td>\n",
              "      <td>writing, photography,writing, sports,writing, ...</td>\n",
              "      <td>confident, flexible,patient, problem solving,...</td>\n",
              "      <td>scrum master,trainer or teacher,technical recr...</td>\n",
              "    </tr>\n",
              "    <tr>\n",
              "      <th>1</th>\n",
              "      <td>decision making,sql, decision making, collabo...</td>\n",
              "      <td>origami, sociology,writing, news,writin, driv...</td>\n",
              "      <td>day dream, overtime, repeating tasks, effectiv...</td>\n",
              "      <td>research &amp; development,technical writer,sales ...</td>\n",
              "    </tr>\n",
              "    <tr>\n",
              "      <th>2</th>\n",
              "      <td>internet applications, algorithms, internet a...</td>\n",
              "      <td>board games, music, cooking, stocks,volunteer...</td>\n",
              "      <td>pressure,pressure, multitasking, pressure, goa...</td>\n",
              "      <td>site reliability engineer,senior software deve...</td>\n",
              "    </tr>\n",
              "    <tr>\n",
              "      <th>3</th>\n",
              "      <td>analytical thinking, distributed systems, dis...</td>\n",
              "      <td>emerging tech, video games, cooking,video gam...</td>\n",
              "      <td>work stress, multitasking,collaborative, flex...</td>\n",
              "      <td>senior software developer,machine learning eng...</td>\n",
              "    </tr>\n",
              "    <tr>\n",
              "      <th>4</th>\n",
              "      <td>experience, data mining, experience, analytic...</td>\n",
              "      <td>photography,psychology, writing, sports, mark...</td>\n",
              "      <td>shift work, effective communicative,shift work...</td>\n",
              "      <td>technical recruiter,manager,sales engineer,tec...</td>\n",
              "    </tr>\n",
              "  </tbody>\n",
              "</table>\n",
              "</div>"
            ],
            "text/plain": [
              "                                              Skills  ...                                           Best Fit\n",
              "0   analytical thinking, flexible, decision makin...  ...  scrum master,trainer or teacher,technical recr...\n",
              "1   decision making,sql, decision making, collabo...  ...  research & development,technical writer,sales ...\n",
              "2   internet applications, algorithms, internet a...  ...  site reliability engineer,senior software deve...\n",
              "3   analytical thinking, distributed systems, dis...  ...  senior software developer,machine learning eng...\n",
              "4   experience, data mining, experience, analytic...  ...  technical recruiter,manager,sales engineer,tec...\n",
              "\n",
              "[5 rows x 4 columns]"
            ]
          },
          "metadata": {},
          "execution_count": 4
        }
      ]
    },
    {
      "cell_type": "code",
      "metadata": {
        "id": "hdKbXIbVfffj"
      },
      "source": [
        "# editing the data\n",
        "def clean_text(traindf):\n",
        "\n",
        "  for col in traindf.columns:\n",
        "    for row in range(len(traindf)):\n",
        "      traindf.iloc[row][col] = traindf.iloc[row][col].replace(\", \", \",\")\n",
        "      \n",
        "      # remove spaces from both end of string\n",
        "      traindf.iloc[row][col] = traindf.iloc[row][col].strip(\" \")\n",
        "\n",
        "      # replace \" \" with \"_\"\n",
        "      traindf.iloc[row][col] = traindf.iloc[row][col].replace(\" \", \"_\")\n",
        "  \n",
        "  return traindf\n"
      ],
      "execution_count": 5,
      "outputs": []
    },
    {
      "cell_type": "code",
      "metadata": {
        "colab": {
          "base_uri": "https://localhost:8080/",
          "height": 226
        },
        "id": "cng1u6pPhn6t",
        "outputId": "1002ea9a-ac40-4fdd-b6d8-2350d91e9449"
      },
      "source": [
        "traindf = clean_text(traindf)\n",
        "traindf.head()"
      ],
      "execution_count": 6,
      "outputs": [
        {
          "output_type": "execute_result",
          "data": {
            "text/html": [
              "<div>\n",
              "<style scoped>\n",
              "    .dataframe tbody tr th:only-of-type {\n",
              "        vertical-align: middle;\n",
              "    }\n",
              "\n",
              "    .dataframe tbody tr th {\n",
              "        vertical-align: top;\n",
              "    }\n",
              "\n",
              "    .dataframe thead th {\n",
              "        text-align: right;\n",
              "    }\n",
              "</style>\n",
              "<table border=\"1\" class=\"dataframe\">\n",
              "  <thead>\n",
              "    <tr style=\"text-align: right;\">\n",
              "      <th></th>\n",
              "      <th>Skills</th>\n",
              "      <th>Interest</th>\n",
              "      <th>Workstyle</th>\n",
              "      <th>Best Fit</th>\n",
              "    </tr>\n",
              "  </thead>\n",
              "  <tbody>\n",
              "    <tr>\n",
              "      <th>0</th>\n",
              "      <td>analytical_thinking,flexible,decision_making,h...</td>\n",
              "      <td>writing,photography,writing,sports,writing,exp...</td>\n",
              "      <td>confident,flexible,patient,problem_solving,eff...</td>\n",
              "      <td>scrum_master,trainer_or_teacher,technical_recr...</td>\n",
              "    </tr>\n",
              "    <tr>\n",
              "      <th>1</th>\n",
              "      <td>decision_making,sql,decision_making,collaborat...</td>\n",
              "      <td>origami,sociology,writing,news,writin,driving,...</td>\n",
              "      <td>day_dream,overtime,repeating_tasks,effective_c...</td>\n",
              "      <td>research_&amp;_development,technical_writer,sales_...</td>\n",
              "    </tr>\n",
              "    <tr>\n",
              "      <th>2</th>\n",
              "      <td>internet_applications,algorithms,internet_appl...</td>\n",
              "      <td>board_games,music,cooking,stocks,volunteering,...</td>\n",
              "      <td>pressure,pressure,multitasking,pressure,goal_o...</td>\n",
              "      <td>site_reliability_engineer,senior_software_deve...</td>\n",
              "    </tr>\n",
              "    <tr>\n",
              "      <th>3</th>\n",
              "      <td>analytical_thinking,distributed_systems,distri...</td>\n",
              "      <td>emerging_tech,video_games,cooking,video_games,...</td>\n",
              "      <td>work_stress,multitasking,collaborative,flexibl...</td>\n",
              "      <td>senior_software_developer,machine_learning_eng...</td>\n",
              "    </tr>\n",
              "    <tr>\n",
              "      <th>4</th>\n",
              "      <td>experience,data_mining,experience,analytical_t...</td>\n",
              "      <td>photography,psychology,writing,sports,market_k...</td>\n",
              "      <td>shift_work,effective_communicative,shift_work,...</td>\n",
              "      <td>technical_recruiter,manager,sales_engineer,tec...</td>\n",
              "    </tr>\n",
              "  </tbody>\n",
              "</table>\n",
              "</div>"
            ],
            "text/plain": [
              "                                              Skills  ...                                           Best Fit\n",
              "0  analytical_thinking,flexible,decision_making,h...  ...  scrum_master,trainer_or_teacher,technical_recr...\n",
              "1  decision_making,sql,decision_making,collaborat...  ...  research_&_development,technical_writer,sales_...\n",
              "2  internet_applications,algorithms,internet_appl...  ...  site_reliability_engineer,senior_software_deve...\n",
              "3  analytical_thinking,distributed_systems,distri...  ...  senior_software_developer,machine_learning_eng...\n",
              "4  experience,data_mining,experience,analytical_t...  ...  technical_recruiter,manager,sales_engineer,tec...\n",
              "\n",
              "[5 rows x 4 columns]"
            ]
          },
          "metadata": {},
          "execution_count": 6
        }
      ]
    },
    {
      "cell_type": "code",
      "metadata": {
        "id": "5XHKwzVz7XxM"
      },
      "source": [
        "#input consists of skills, interest and workstyle\n",
        "inp = list()\n",
        "\n",
        "for hm, lm, wm in zip(traindf['Skills'],traindf['Interest'],traindf['Workstyle']):\n",
        "  skills = [w for w in hm.split(\",\")]\n",
        "  skills.pop(-1)\n",
        "\n",
        "  interest = [w for w in lm.split(\",\")]\n",
        "  interest.pop(-1)\n",
        "\n",
        "  wstyle = [w for w in wm.split(\",\")]\n",
        "  wstyle.pop(-1)\n",
        "\n",
        "  inp.append(skills + interest + wstyle) \n",
        "\n",
        "#output consists of possible targets\n",
        "best_fit = list()\n",
        "\n",
        "for m in traindf['Best Fit']:\n",
        "  fits = [w for w in m.split(\",\")]\n",
        "  fits.pop(-1)\n",
        "\n",
        "  best_fit.append(fits)\n"
      ],
      "execution_count": 7,
      "outputs": []
    },
    {
      "cell_type": "code",
      "metadata": {
        "colab": {
          "base_uri": "https://localhost:8080/"
        },
        "id": "X5O_8kwe9AEI",
        "outputId": "e519fb76-d655-440a-e437-19355dd2992a"
      },
      "source": [
        "MAX_LEN = 40\n",
        "\n",
        "#inp tokenizer for input data\n",
        "inp_token = Tokenizer()\n",
        "inp_token.fit_on_texts(inp)\n",
        "inp_dict = inp_token.word_index\n",
        "\n",
        "xseq = inp_token.texts_to_sequences(inp)\n",
        "xpadseq = pad_sequences(xseq,maxlen=MAX_LEN,padding='post')\n",
        "\n",
        "#output tokenizer for output data\n",
        "out_token = Tokenizer()\n",
        "out_token.fit_on_texts(best_fit)\n",
        "out_dict = out_token.word_index\n",
        "\n",
        "yseq = out_token.texts_to_sequences(best_fit)\n",
        "ypadseq = pad_sequences(yseq,maxlen=MAX_LEN,padding='post')\n",
        "\n",
        "print([xpadseq[0],ypadseq[0]])\n"
      ],
      "execution_count": 9,
      "outputs": [
        {
          "output_type": "stream",
          "name": "stdout",
          "text": [
            "[array([89,  8, 12,  8, 57,  8, 72, 54, 54,  8, 24,  4, 14,  4,  7,  4, 32,\n",
            "       18, 19, 19,  4,  4,  4,  4,  4, 10,  6,  5,  1,  2, 26,  2, 22, 10,\n",
            "       22,  6, 30, 40, 30, 21], dtype=int32), array([ 6, 10,  4,  6,  1,  0,  0,  0,  0,  0,  0,  0,  0,  0,  0,  0,  0,\n",
            "        0,  0,  0,  0,  0,  0,  0,  0,  0,  0,  0,  0,  0,  0,  0,  0,  0,\n",
            "        0,  0,  0,  0,  0,  0], dtype=int32)]\n"
          ]
        }
      ]
    },
    {
      "cell_type": "code",
      "metadata": {
        "colab": {
          "base_uri": "https://localhost:8080/"
        },
        "id": "9iFMjwBidQdu",
        "outputId": "2fd8078e-1137-43d4-dbd7-d187123e4a55"
      },
      "source": [
        "vocab = len(inp_dict) + 1\n",
        "num_classes = len(out_dict) + 1\n",
        "\n",
        "yvec = tf.keras.utils.to_categorical(ypadseq,num_classes=num_classes)\n",
        "\n",
        "model = tf.keras.models.Sequential([\n",
        "    Embedding(vocab,256,input_length=MAX_LEN),\n",
        "\n",
        "    Dropout(0.2),\n",
        "\n",
        "    LSTM(256,input_shape=(MAX_LEN,1),return_sequences=True),\n",
        "    LSTM(256,input_shape=(MAX_LEN,1),return_sequences=True),\n",
        "\n",
        "    TimeDistributed(Dense(units=num_classes,activation=tf.nn.softmax))\n",
        "])\n",
        "model.summary()\n"
      ],
      "execution_count": 10,
      "outputs": [
        {
          "output_type": "stream",
          "name": "stdout",
          "text": [
            "Model: \"sequential\"\n",
            "_________________________________________________________________\n",
            "Layer (type)                 Output Shape              Param #   \n",
            "=================================================================\n",
            "embedding (Embedding)        (None, 40, 256)           28416     \n",
            "_________________________________________________________________\n",
            "dropout (Dropout)            (None, 40, 256)           0         \n",
            "_________________________________________________________________\n",
            "lstm (LSTM)                  (None, 40, 256)           525312    \n",
            "_________________________________________________________________\n",
            "lstm_1 (LSTM)                (None, 40, 256)           525312    \n",
            "_________________________________________________________________\n",
            "time_distributed (TimeDistri (None, 40, 16)            4112      \n",
            "=================================================================\n",
            "Total params: 1,083,152\n",
            "Trainable params: 1,083,152\n",
            "Non-trainable params: 0\n",
            "_________________________________________________________________\n"
          ]
        }
      ]
    },
    {
      "cell_type": "code",
      "metadata": {
        "colab": {
          "base_uri": "https://localhost:8080/"
        },
        "id": "kMCjq2FDnhrU",
        "outputId": "5918cb3d-07fa-4bfe-c3e9-66b6d5eeabe0"
      },
      "source": [
        "reduced_lr = tf.keras.callbacks.ReduceLROnPlateau(\n",
        "    monitor='loss',\n",
        "    factor=0.1,\n",
        "    min_lr=1e-9,\n",
        "    patience=3,\n",
        "    cooldown=1\n",
        ")\n",
        "model.compile(loss=\"categorical_crossentropy\",optimizer='rmsprop',metrics=[\"accuracy\"])\n",
        "\n",
        "history = model.fit(xpadseq,yvec,epochs=10,callbacks=[reduced_lr],verbose=1,batch_size=8)"
      ],
      "execution_count": 11,
      "outputs": [
        {
          "output_type": "stream",
          "name": "stdout",
          "text": [
            "Epoch 1/10\n",
            "63/63 [==============================] - 23s 301ms/step - loss: 0.4450 - accuracy: 0.8637\n",
            "Epoch 2/10\n",
            "63/63 [==============================] - 19s 301ms/step - loss: 0.3443 - accuracy: 0.8864\n",
            "Epoch 3/10\n",
            "63/63 [==============================] - 19s 301ms/step - loss: 0.3312 - accuracy: 0.8905\n",
            "Epoch 4/10\n",
            "63/63 [==============================] - 19s 300ms/step - loss: 0.3191 - accuracy: 0.8935\n",
            "Epoch 5/10\n",
            "63/63 [==============================] - 19s 300ms/step - loss: 0.3085 - accuracy: 0.8959\n",
            "Epoch 6/10\n",
            "63/63 [==============================] - 19s 306ms/step - loss: 0.2985 - accuracy: 0.8978\n",
            "Epoch 7/10\n",
            "63/63 [==============================] - 19s 305ms/step - loss: 0.2925 - accuracy: 0.8992\n",
            "Epoch 8/10\n",
            "63/63 [==============================] - 19s 306ms/step - loss: 0.2871 - accuracy: 0.9008\n",
            "Epoch 9/10\n",
            "63/63 [==============================] - 19s 309ms/step - loss: 0.2824 - accuracy: 0.9017\n",
            "Epoch 10/10\n",
            "63/63 [==============================] - 19s 308ms/step - loss: 0.2780 - accuracy: 0.9027\n"
          ]
        }
      ]
    },
    {
      "cell_type": "code",
      "metadata": {
        "colab": {
          "base_uri": "https://localhost:8080/",
          "height": 545
        },
        "id": "2KQEe8BhqhAw",
        "outputId": "8370e297-b8cd-4477-e955-4c207be2c5e3"
      },
      "source": [
        "loss = history.history['loss']\n",
        "acc = history.history['accuracy']\n",
        "\n",
        "epoch = range(len(loss))\n",
        "\n",
        "plt.plot(epoch,loss,'r',label='training loss')\n",
        "plt.title('Loss Graph')\n",
        "plt.legend()\n",
        "plt.figure()\n",
        "plt.plot(epoch,acc,'b',label='training acc')\n",
        "plt.title('Acc Graph')\n",
        "plt.legend()\n",
        "plt.show()\n"
      ],
      "execution_count": 12,
      "outputs": [
        {
          "output_type": "display_data",
          "data": {
            "image/png": "[encoded data removed]",
            "text/plain": [
              "<Figure size 432x288 with 1 Axes>"
            ]
          },
          "metadata": {
            "needs_background": "light"
          }
        },
        {
          "output_type": "display_data",
          "data": {
            "image/png": "[encoded data removed]",
            "text/plain": [
              "<Figure size 432x288 with 1 Axes>"
            ]
          },
          "metadata": {
            "needs_background": "light"
          }
        }
      ]
    },
    {
      "cell_type": "code",
      "metadata": {
        "id": "5X2NzxgtrUO1"
      },
      "source": [
        "# storing the model parameters\n",
        "model.save(\"c_lstm_model.h5\")\n",
        "\n",
        "# input dictionary\n",
        "dfile = open(\"c_inp_dict.pkl\",'wb')\n",
        "pickle.dump(inp_dict, dfile)\n",
        "dfile.close()\n",
        "\n",
        "# output dictionary\n",
        "dfile = open(\"c_out_dict.pkl\",'wb')\n",
        "pickle.dump(out_dict, dfile)\n",
        "dfile.close()\n"
      ],
      "execution_count": 13,
      "outputs": []
    },
    {
      "cell_type": "markdown",
      "metadata": {
        "id": "2c0ApR1GtJqB"
      },
      "source": [
        "## Loading model and testing outputs"
      ]
    },
    {
      "cell_type": "code",
      "metadata": {
        "id": "Hk5MjFFxr6-a"
      },
      "source": [
        "# loading all the model files\n",
        "model = tf.keras.models.load_model(\"/content/c_lstm_model.h5\")\n",
        "\n",
        "dfile = open(\"/content/c_inp_dict.pkl\", \"rb\")\n",
        "inp_dict = pickle.load(dfile)\n",
        "\n",
        "dfile = open(\"/content/c_out_dict.pkl\", \"rb\")\n",
        "out_dict = pickle.load(dfile)\n"
      ],
      "execution_count": 14,
      "outputs": []
    },
    {
      "cell_type": "code",
      "metadata": {
        "id": "j8WwQzochhlB"
      },
      "source": [
        "year_1 = {\n",
        "        \"Skills\": ['distributed systems,business intelligence'],\n",
        "        \"Interest\": ['market knowledge, driving, psychology'],\n",
        "        \"Workstyle\": ['emotional intelligence, effective communicative']\n",
        "}\n",
        "\n",
        "year_2 = {\n",
        "    \"Skills\": ['distributed systems,business intelligence,statistics,machine learning,management,c++,c#,c'],\n",
        "    \"Interest\": ['market knowledge, driving, psychology,sports, video games, site seeing'],\n",
        "    \"Workstyle\": ['emotional intelligence, effective communicative,goal oriented, problem solving,patient, confident']\n",
        "}\n",
        "\n",
        "test_list = [year_1,year_2]\n"
      ],
      "execution_count": 15,
      "outputs": []
    },
    {
      "cell_type": "code",
      "metadata": {
        "id": "WMiajwFKu2gq"
      },
      "source": [
        "def get_modified_list(test_list):\n",
        "  modified_list = list()\n",
        "\n",
        "  return modified_list\n"
      ],
      "execution_count": 63,
      "outputs": []
    },
    {
      "cell_type": "code",
      "metadata": {
        "id": "Is3htfMetVTP"
      },
      "source": [
        "def predict_output(test_list):\n",
        "  MAX_LEN = 50\n",
        "\n",
        "  test_output = list()\n",
        "\n",
        "  for test_case in test_list:\n",
        "    # creating testing text\n",
        "    testdf = pd.DataFrame(test_case)\n",
        "\n",
        "    testdf = clean_text(testdf)\n",
        "\n",
        "    # encoding new text with inp dictionary\n",
        "    testinp = list()\n",
        "\n",
        "    for hm, lm, wm in zip(testdf['Skills'],testdf['Interest'],testdf['Workstyle']):\n",
        "      skills = [w for w in hm.split(\",\")]\n",
        "      skills.pop(-1)\n",
        "\n",
        "      istyle = [w for w in lm.split(\",\")]\n",
        "      istyle.pop(-1)\n",
        "\n",
        "      wstyle = [w for w in wm.split(\",\")]\n",
        "      wstyle.pop(-1)\n",
        "\n",
        "      testinp.append(skills + istyle + wstyle) \n",
        "\n",
        "    # initializing the tokenizer with pre-built dictionary\n",
        "    test_token = Tokenizer()\n",
        "    test_token.word_index = inp_dict\n",
        "    xseq = test_token.texts_to_sequences(testinp)\n",
        "    xpadseq = pad_sequences(xseq,maxlen=MAX_LEN,padding='post')\n",
        "\n",
        "    # predicting the output\n",
        "    predicted = model.predict(xpadseq)\n",
        "    final_list = list()\n",
        "\n",
        "    for i in range(len(predicted)):\n",
        "      res = list()\n",
        "      pred = np.round( np.argmax(predicted[i],axis=1) )\n",
        "\n",
        "      for w in pred:\n",
        "        for word, index in out_dict.items():\n",
        "          if index == w:\n",
        "            res.append(word)\n",
        "            break\n",
        "        \n",
        "      final_list.append(res)\n",
        "\n",
        "    test_output.append(final_list)\n",
        "\n",
        "  return test_output\n"
      ],
      "execution_count": 16,
      "outputs": []
    },
    {
      "cell_type": "code",
      "metadata": {
        "id": "wK5g90iHtp-V"
      },
      "source": [
        "def get_visualization(final_list,target_list):\n",
        "  #fig, axs = plt.subplots(ncols=len(final_list), figsize=(40,10))\n",
        "\n",
        "  for final in final_list:\n",
        "    # the score dictionary\n",
        "    score_dict = dict()\n",
        "\n",
        "    N = len(target_list)\n",
        "\n",
        "    for fit in target_list:\n",
        "      score_dict[fit] = 0\n",
        "\n",
        "    for fit in final[0]:\n",
        "      for key in score_dict.keys():\n",
        "        if key == fit:\n",
        "          score_dict[key] += 1    \n",
        "\n",
        "    angles = [n / float(N) * 2 * pi for n in range(N)]\n",
        "\n",
        "    values = list(score_dict.values())\n",
        "    categories = list(score_dict.keys())\n",
        "\n",
        "    ax = plt.subplot(111, polar=True)\n",
        "    plt.xticks(angles, categories, color='black', size=8)\n",
        "\n",
        "    max_idx = max(score_dict, key=score_dict.get)\n",
        "    max_value = score_dict[max_idx]\n",
        "\n",
        "    ax.set_rlabel_position(0)\n",
        "    plt.yticks(list( range(0,(max_value + 1)) ), [str(n) for n in list( range(0,(max_value + 1)) )], color=\"black\", size=10)\n",
        "    plt.ylim(0,max_value)\n",
        "\n",
        "    ax.plot(angles, values, linewidth=1, linestyle='solid')\n",
        "    ax.fill(angles, values, 'b', alpha=0.1)\n",
        "\n",
        "    plt.show()\n"
      ],
      "execution_count": 17,
      "outputs": []
    },
    {
      "cell_type": "code",
      "metadata": {
        "colab": {
          "base_uri": "https://localhost:8080/",
          "height": 589
        },
        "id": "c0SK4D5Ztp8t",
        "outputId": "0d65c872-660c-4d50-a55a-be4a889476f9"
      },
      "source": [
        "pred_list = predict_output(test_list)\n",
        "get_visualization(pred_list,target_list)\n"
      ],
      "execution_count": 18,
      "outputs": [
        {
          "output_type": "stream",
          "name": "stdout",
          "text": [
            "WARNING:tensorflow:Model was constructed with shape (None, 40) for input KerasTensor(type_spec=TensorSpec(shape=(None, 40), dtype=tf.float32, name='embedding_input'), name='embedding_input', description=\"created by layer 'embedding_input'\"), but it was called on an input with incompatible shape (None, 50).\n"
          ]
        },
        {
          "output_type": "display_data",
          "data": {
            "image/png": "[encoded data removed]",
            "text/plain": [
              "<Figure size 432x288 with 1 Axes>"
            ]
          },
          "metadata": {
            "needs_background": "light"
          }
        },
        {
          "output_type": "display_data",
          "data": {
            "image/png": "[encoded data removed]",
            "text/plain": [
              "<Figure size 432x288 with 1 Axes>"
            ]
          },
          "metadata": {
            "needs_background": "light"
          }
        }
      ]
    },
    {
      "cell_type": "code",
      "metadata": {
        "id": "Mp9km3rCytjA"
      },
      "source": [
        ""
      ],
      "execution_count": null,
      "outputs": []
    }
  ]
}