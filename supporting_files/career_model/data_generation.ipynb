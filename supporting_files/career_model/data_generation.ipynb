{
  "nbformat": 4,
  "nbformat_minor": 0,
  "metadata": {
    "colab": {
      "name": "c_data_generation.ipynb",
      "provenance": [],
      "collapsed_sections": []
    },
    "kernelspec": {
      "name": "python3",
      "display_name": "Python 3"
    },
    "language_info": {
      "name": "python"
    }
  },
  "cells": [
    {
      "cell_type": "code",
      "metadata": {
        "id": "1jktxPeaeZgd"
      },
      "source": [
        "#import essentials\n",
        "import pandas as pd\n",
        "import numpy as np\n",
        "\n",
        "import warnings\n",
        "warnings.filterwarnings('ignore')"
      ],
      "execution_count": 1,
      "outputs": []
    },
    {
      "cell_type": "code",
      "metadata": {
        "id": "u-DIdHJje_2B"
      },
      "source": [
        "class data_generator:\n",
        "  def __init__(self, path):\n",
        "    # loading the base data\n",
        "    self.data = pd.read_csv(path)\n",
        "    self.columns = self.data.columns\n",
        "  \n",
        "    # initializing the \"mental risk\" graph\n",
        "    self.data_graph = {\n",
        "        'software developer' : ['trainer or teacher','site reliability engineer','database admin','senior software developer','machine learning engineer'],\n",
        "        'senior software developer' : ['manager','technical writer','site reliability engineer','machine learning engineer'],\n",
        "        'database admin' : ['software developer','technical support','data scientist','business analyst'],\n",
        "        'business analyst' : ['data scientist','manager','database admin','machine learning engineer'],\n",
        "        'site reliability engineer' : ['software developer','senior software developer'],\n",
        "        'data scientist' : ['business analyst','database admin','research & development','technical writer','machine learning engineer'],\n",
        "        'research & development' : ['data scientist','technical writer'],\n",
        "        'technical writer' : ['research & development','data scientist','sales engineer'],\n",
        "        'technical support' : ['software developer','database admin','senior software developer','technical writer'],\n",
        "        'trainer or teacher' : ['software developer','scrum master','technical recruiter'],\n",
        "        'technical recruiter' : ['trainer or teacher','manager','scrum master'],\n",
        "        'sales engineer' : ['scrum master','manager','technical writer'],\n",
        "        'manager' : ['sales engineer','technical recruiter'],\n",
        "        'scrum master' : ['trainer or teacher','sales engineer','technical recruiter','manager'],\n",
        "        'machine learning engineer' : ['software developer','senior software developer','data scientist','research & development','manager']\n",
        "    }\n",
        "\n",
        "  def __get_list__(self,string,bounds):\n",
        "    lst = [w for w in string.split(\",\")]\n",
        "    s = \"\"\n",
        "    count = np.random.randint(bounds[0],bounds[1])\n",
        "\n",
        "    try:\n",
        "      for i in range(0,count):\n",
        "        s += np.random.choice(lst)+\",\"\n",
        "    except IndexError:\n",
        "       s += np.random.choice(lst)+\",\"\n",
        "\n",
        "    return s[:-1]\n",
        "\n",
        "  # get risk based on previous risks  \n",
        "  def __get_risk__(self,prev_df,row,target):\n",
        "    prev_risk = prev_df.iloc[row][target]\n",
        "    return np.random.choice(self.data_graph[prev_risk])\n",
        "\n",
        "  def get_data(self, num_entries=500, num_years=5, target='Mental Risks'):\n",
        "    output = list()\n",
        "\n",
        "    for year in range(num_years):\n",
        "      df = pd.DataFrame(None, index = range(0,num_entries), columns = self.data.columns)\n",
        "\n",
        "      # initializing the \"Mental Risk\" column\n",
        "      for row in range(num_entries):\n",
        "        if year == 0:\n",
        "          risk = np.random.choice(self.data[target])\n",
        "        else:\n",
        "          risk = self.__get_risk__(output[year - 1],row,target)\n",
        "        \n",
        "        df.iloc[row][target] = risk\n",
        "      \n",
        "        # choose features from risk\n",
        "        i = 0\n",
        "\n",
        "        while i < len(self.data):\n",
        "          if risk == self.data.iloc[i][target]:\n",
        "            break\n",
        "          i += 1\n",
        "          \n",
        "        for col in self.data.columns[:-1]:\n",
        "          bounds = [2,5]\n",
        "          df.iloc[row][col] = self.__get_list__(self.data.iloc[i][col],bounds)\n",
        "        \n",
        "      output.append(df)\n",
        "\n",
        "    return output # return list of generated dataframes\n",
        "\n"
      ],
      "execution_count": 2,
      "outputs": []
    },
    {
      "cell_type": "code",
      "metadata": {
        "id": "7dHenkZGldw2"
      },
      "source": [
        "generator = data_generator(\"/content/drive/MyDrive/Digital Twin/Datasets/Career_base.csv\")\n",
        "output = generator.get_data(target='Best Fit')\n"
      ],
      "execution_count": 3,
      "outputs": []
    },
    {
      "cell_type": "code",
      "metadata": {
        "id": "f1Gugg3ByAs_"
      },
      "source": [
        "# save the dataframes\n",
        "for i, df in zip(range(len(output)), output):\n",
        "  df.to_csv(\"career_data_year-\"+str(i+1)+\".csv\",index=False)"
      ],
      "execution_count": 4,
      "outputs": []
    },
    {
      "cell_type": "code",
      "metadata": {
        "id": "MkqcKjQazD1A"
      },
      "source": [
        ""
      ],
      "execution_count": null,
      "outputs": []
    }
  ]
}